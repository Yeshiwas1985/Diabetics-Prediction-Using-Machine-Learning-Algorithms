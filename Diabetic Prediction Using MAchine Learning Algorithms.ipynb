{
 "cells": [
  {
   "cell_type": "markdown",
   "id": "af1e344c-ea63-49a3-b283-4164971b698c",
   "metadata": {},
   "source": [
    "### 1. Importing necessary libraries"
   ]
  },
  {
   "cell_type": "code",
   "execution_count": 1,
   "id": "201ccb90-0d68-436f-821a-6e4d0cf20d81",
   "metadata": {},
   "outputs": [],
   "source": [
    "import numpy as np # linear algebra\n",
    "import pandas as pd # data processing, CSV file I/O (e.g. pd.read_csv)\n",
    "\n",
    "from mlxtend.plotting import plot_decision_regions\n",
    "import matplotlib.pyplot as plt\n",
    "import seaborn as sns\n",
    "from sklearn.model_selection import train_test_split\n",
    "from sklearn.ensemble import RandomForestClassifier\n",
    "from sklearn.linear_model import LogisticRegression\n",
    "from sklearn.metrics import accuracy_score, confusion_matrix\n",
    "import matplotlib.pyplot as plt\n",
    "from scipy.io import mmread\n",
    "from sklearn import metrics\n",
    "from sklearn import svm\n",
    "from sklearn.metrics import classification_report\n",
    "from sklearn.model_selection import cross_val_score\n",
    "from sklearn.model_selection import cross_val_predict\n",
    "from sklearn.ensemble import RandomForestClassifier\n",
    "from sklearn.svm import SVC\n",
    "from sklearn.tree import DecisionTreeClassifier\n",
    "from sklearn.model_selection import KFold\n",
    "import seaborn as sns\n",
    "from sklearn.feature_selection import SelectKBest\n",
    "from sklearn.feature_selection import f_classif\n",
    "from sklearn.feature_selection import RFE\n",
    "from sklearn .model_selection import learning_curve\n",
    "from collections import Counter\n",
    "import pickle\n",
    "import gzip\n",
    "import seaborn as sns\n",
    "sns.set()\n",
    "import warnings\n",
    "warnings.filterwarnings('ignore')\n",
    "%matplotlib inline\n",
    "#plt.style.use('ggplot')\n",
    "#ggplot is R based visualisation package that provides better graphics with higher level of abstraction"
   ]
  },
  {
   "cell_type": "markdown",
   "id": "30a10e04-eb04-4b69-8067-9c5335173e04",
   "metadata": {},
   "source": [
    "### 2. Loading a data"
   ]
  },
  {
   "cell_type": "code",
   "execution_count": 2,
   "id": "1074b162-29b5-4445-9318-a2e7b3002861",
   "metadata": {},
   "outputs": [
    {
     "data": {
      "text/html": [
       "<div>\n",
       "<style scoped>\n",
       "    .dataframe tbody tr th:only-of-type {\n",
       "        vertical-align: middle;\n",
       "    }\n",
       "\n",
       "    .dataframe tbody tr th {\n",
       "        vertical-align: top;\n",
       "    }\n",
       "\n",
       "    .dataframe thead th {\n",
       "        text-align: right;\n",
       "    }\n",
       "</style>\n",
       "<table border=\"1\" class=\"dataframe\">\n",
       "  <thead>\n",
       "    <tr style=\"text-align: right;\">\n",
       "      <th></th>\n",
       "      <th>Age</th>\n",
       "      <th>Pregnancy</th>\n",
       "      <th>BMI</th>\n",
       "      <th>HbA1c</th>\n",
       "      <th>Chol</th>\n",
       "      <th>FBS</th>\n",
       "      <th>RBS</th>\n",
       "      <th>BP</th>\n",
       "      <th>CLASS</th>\n",
       "    </tr>\n",
       "  </thead>\n",
       "  <tbody>\n",
       "    <tr>\n",
       "      <th>0</th>\n",
       "      <td>64</td>\n",
       "      <td>0</td>\n",
       "      <td>25.7</td>\n",
       "      <td>7.22</td>\n",
       "      <td>250</td>\n",
       "      <td>229</td>\n",
       "      <td>238</td>\n",
       "      <td>147</td>\n",
       "      <td>1</td>\n",
       "    </tr>\n",
       "    <tr>\n",
       "      <th>1</th>\n",
       "      <td>52</td>\n",
       "      <td>0</td>\n",
       "      <td>27.3</td>\n",
       "      <td>7.67</td>\n",
       "      <td>256</td>\n",
       "      <td>218</td>\n",
       "      <td>298</td>\n",
       "      <td>164</td>\n",
       "      <td>1</td>\n",
       "    </tr>\n",
       "    <tr>\n",
       "      <th>2</th>\n",
       "      <td>63</td>\n",
       "      <td>0</td>\n",
       "      <td>25.9</td>\n",
       "      <td>8.99</td>\n",
       "      <td>223</td>\n",
       "      <td>175</td>\n",
       "      <td>339</td>\n",
       "      <td>149</td>\n",
       "      <td>1</td>\n",
       "    </tr>\n",
       "    <tr>\n",
       "      <th>3</th>\n",
       "      <td>58</td>\n",
       "      <td>0</td>\n",
       "      <td>30.2</td>\n",
       "      <td>8.27</td>\n",
       "      <td>246</td>\n",
       "      <td>202</td>\n",
       "      <td>236</td>\n",
       "      <td>132</td>\n",
       "      <td>1</td>\n",
       "    </tr>\n",
       "    <tr>\n",
       "      <th>4</th>\n",
       "      <td>51</td>\n",
       "      <td>0</td>\n",
       "      <td>28.1</td>\n",
       "      <td>7.00</td>\n",
       "      <td>239</td>\n",
       "      <td>177</td>\n",
       "      <td>334</td>\n",
       "      <td>146</td>\n",
       "      <td>1</td>\n",
       "    </tr>\n",
       "  </tbody>\n",
       "</table>\n",
       "</div>"
      ],
      "text/plain": [
       "   Age  Pregnancy   BMI  HbA1c  Chol  FBS  RBS   BP  CLASS\n",
       "0   64          0  25.7   7.22   250  229  238  147      1\n",
       "1   52          0  27.3   7.67   256  218  298  164      1\n",
       "2   63          0  25.9   8.99   223  175  339  149      1\n",
       "3   58          0  30.2   8.27   246  202  236  132      1\n",
       "4   51          0  28.1   7.00   239  177  334  146      1"
      ]
     },
     "execution_count": 2,
     "metadata": {},
     "output_type": "execute_result"
    }
   ],
   "source": [
    "diabetes_data = pd.read_csv('full_dataset.csv')\n",
    "diabetes_data.head(5)"
   ]
  },
  {
   "cell_type": "markdown",
   "id": "14a7edd7-d1f3-4a94-8221-539216042250",
   "metadata": {},
   "source": [
    "#### 2.1. Checking the shape of the dataset"
   ]
  },
  {
   "cell_type": "code",
   "execution_count": 3,
   "id": "533de119-f08c-431f-95f8-b555d3e9a583",
   "metadata": {},
   "outputs": [
    {
     "name": "stdout",
     "output_type": "stream",
     "text": [
      "Diabetes data shape:  (10655, 9)\n"
     ]
    }
   ],
   "source": [
    "print('Diabetes data shape: ', diabetes_data.shape)"
   ]
  },
  {
   "cell_type": "code",
   "execution_count": 5,
   "id": "9ae75d56-b18f-4ba7-a186-98c147e43d2a",
   "metadata": {},
   "outputs": [
    {
     "data": {
      "text/plain": [
       "CLASS\n",
       "1    2660\n",
       "2    2661\n",
       "3    2672\n",
       "4    2662\n",
       "dtype: int64"
      ]
     },
     "execution_count": 5,
     "metadata": {},
     "output_type": "execute_result"
    }
   ],
   "source": [
    "diabetes_data.groupby('CLASS').size()"
   ]
  },
  {
   "cell_type": "code",
   "execution_count": 6,
   "id": "ad5b5992-6124-4acd-a731-2e0fc05342c8",
   "metadata": {},
   "outputs": [],
   "source": [
    "### Replacing the class indeces\n",
    "classidx = {\n",
    "    1:'Type II',\n",
    "    2:'PreDiabet',\n",
    "    3:'Gestational',\n",
    "    4:'Normal'\n",
    "}"
   ]
  },
  {
   "cell_type": "code",
   "execution_count": 7,
   "id": "86bab946-34e5-4f73-ac4f-6754fdea4a44",
   "metadata": {},
   "outputs": [],
   "source": [
    "idxclass = {v: k for k, v in classidx.items()}\n",
    "diabetes_data['CLASS'].replace(classidx, inplace=True)"
   ]
  },
  {
   "cell_type": "code",
   "execution_count": 8,
   "id": "bd093d56-6546-49bc-82aa-2a0ede165c5b",
   "metadata": {},
   "outputs": [
    {
     "data": {
      "text/plain": [
       "array(['Type II', 'PreDiabet', 'Gestational', 'Normal'], dtype=object)"
      ]
     },
     "execution_count": 8,
     "metadata": {},
     "output_type": "execute_result"
    }
   ],
   "source": [
    "### Displaying the replaced categories\n",
    "diabetes_data['CLASS'].unique()"
   ]
  },
  {
   "cell_type": "code",
   "execution_count": 9,
   "id": "ad99727a-46d8-41f8-9654-cac3393d67e6",
   "metadata": {},
   "outputs": [
    {
     "data": {
      "text/plain": [
       "Text(0, 0.5, 'Number of data')"
      ]
     },
     "execution_count": 9,
     "metadata": {},
     "output_type": "execute_result"
    },
    {
     "data": {
      "image/png": "[encoded data removed]",
      "text/plain": [
       "<Figure size 1000x600 with 1 Axes>"
      ]
     },
     "metadata": {},
     "output_type": "display_data"
    }
   ],
   "source": [
    "### Ploting the graph\n",
    "ax = diabetes_data['CLASS'].value_counts().plot(kind='bar', figsize=(10, 6), fontsize=13, color='#087E8B')\n",
    "ax.set_title('Balanced data ', size=20, pad=30)\n",
    "ax.set_ylabel('Number of data', fontsize=14)"
   ]
  },
  {
   "cell_type": "markdown",
   "id": "a92509fb-9e8a-4867-a0a3-c608c7d6729f",
   "metadata": {},
   "source": [
    "### 3. Preprocessing the data"
   ]
  },
  {
   "cell_type": "code",
   "execution_count": 10,
   "id": "d54a4ed3-2a00-41eb-8270-3f2f061b5128",
   "metadata": {},
   "outputs": [
    {
     "data": {
      "text/plain": [
       "Age          0\n",
       "Pregnancy    0\n",
       "BMI          5\n",
       "HbA1c        0\n",
       "Chol         0\n",
       "FBS          0\n",
       "RBS          0\n",
       "BP           0\n",
       "CLASS        0\n",
       "dtype: int64"
      ]
     },
     "execution_count": 10,
     "metadata": {},
     "output_type": "execute_result"
    }
   ],
   "source": [
    "# checking for the null values of the datasets\n",
    "diabetes_data.isnull().sum()"
   ]
  },
  {
   "cell_type": "code",
   "execution_count": 11,
   "id": "258c7bdf-8c1a-490e-b9bc-6baa91e03faf",
   "metadata": {},
   "outputs": [
    {
     "name": "stdout",
     "output_type": "stream",
     "text": [
      "<class 'pandas.core.frame.DataFrame'>\n",
      "RangeIndex: 10655 entries, 0 to 10654\n",
      "Data columns (total 9 columns):\n",
      " #   Column     Non-Null Count  Dtype  \n",
      "---  ------     --------------  -----  \n",
      " 0   Age        10655 non-null  int64  \n",
      " 1   Pregnancy  10655 non-null  int64  \n",
      " 2   BMI        10655 non-null  float64\n",
      " 3   HbA1c      10655 non-null  float64\n",
      " 4   Chol       10655 non-null  int64  \n",
      " 5   FBS        10655 non-null  int64  \n",
      " 6   RBS        10655 non-null  int64  \n",
      " 7   BP         10655 non-null  int64  \n",
      " 8   CLASS      10655 non-null  object \n",
      "dtypes: float64(2), int64(6), object(1)\n",
      "memory usage: 749.3+ KB\n"
     ]
    }
   ],
   "source": [
    "### Filling the missing column(BMI)  by calculating the mean of the entire column\n",
    "updated_diabetes_data = diabetes_data\n",
    "updated_diabetes_data['BMI'] = updated_diabetes_data['BMI'].fillna(updated_diabetes_data['BMI'].mean())\n",
    "updated_diabetes_data.info()"
   ]
  },
  {
   "cell_type": "code",
   "execution_count": 12,
   "id": "b12b1195-297e-4e62-960e-940dfeae6d3f",
   "metadata": {},
   "outputs": [
    {
     "data": {
      "text/plain": [
       "Age          0\n",
       "Pregnancy    0\n",
       "BMI          0\n",
       "HbA1c        0\n",
       "Chol         0\n",
       "FBS          0\n",
       "RBS          0\n",
       "BP           0\n",
       "CLASS        0\n",
       "dtype: int64"
      ]
     },
     "execution_count": 12,
     "metadata": {},
     "output_type": "execute_result"
    }
   ],
   "source": [
    "# checking for the null values of the datasets\n",
    "diabetes_data.isnull().sum()"
   ]
  },
  {
   "cell_type": "markdown",
   "id": "1405480d-00eb-4592-b095-ee0a86a92648",
   "metadata": {},
   "source": [
    "### 4. Spliting the dataset"
   ]
  },
  {
   "cell_type": "code",
   "execution_count": 13,
   "id": "c8502d63-36cc-4973-8407-9c1b586052a6",
   "metadata": {},
   "outputs": [
    {
     "data": {
      "text/plain": [
       "array([1, 2, 3, 4], dtype=int64)"
      ]
     },
     "execution_count": 13,
     "metadata": {},
     "output_type": "execute_result"
    }
   ],
   "source": [
    "### Replacing the calss names with integer\n",
    "classidx = {\n",
    "    'Type II':1,\n",
    "   'PreDiabet':2,\n",
    "   'Gestational':3,\n",
    "   'Normal':4\n",
    "}\n",
    "idxclass = {v: k for k, v in classidx.items()}\n",
    "diabetes_data['CLASS'].replace(classidx, inplace=True)\n",
    "diabetes_data['CLASS'].unique()"
   ]
  },
  {
   "cell_type": "code",
   "execution_count": 14,
   "id": "f2286be8-cd29-426d-8822-05deb1b5d522",
   "metadata": {},
   "outputs": [
    {
     "name": "stdout",
     "output_type": "stream",
     "text": [
      "       Age  Pregnancy   BMI  HbA1c  Chol  FBS  RBS   BP\n",
      "0       64          0  25.7   7.22   250  229  238  147\n",
      "1       52          0  27.3   7.67   256  218  298  164\n",
      "2       63          0  25.9   8.99   223  175  339  149\n",
      "3       58          0  30.2   8.27   246  202  236  132\n",
      "4       51          0  28.1   7.00   239  177  334  146\n",
      "...    ...        ...   ...    ...   ...  ...  ...  ...\n",
      "10650   48          0  21.3   5.20   185   79  113  117\n",
      "10651   43          0  19.1   4.10   188   85   86  108\n",
      "10652   40          0  21.3   4.80   126   84  119  112\n",
      "10653   43          0  21.8   5.00   192   71  110  102\n",
      "10654   41          0  25.0   4.10   141   82  111  118\n",
      "\n",
      "[10655 rows x 8 columns]\n"
     ]
    }
   ],
   "source": [
    "X = diabetes_data.drop('CLASS', axis = 1)\n",
    "y = diabetes_data.CLASS\n",
    "print(X)"
   ]
  },
  {
   "cell_type": "code",
   "execution_count": 15,
   "id": "3d004659-428b-4773-a600-0bf067110dd7",
   "metadata": {},
   "outputs": [
    {
     "name": "stdout",
     "output_type": "stream",
     "text": [
      "0        1\n",
      "1        1\n",
      "2        1\n",
      "3        1\n",
      "4        1\n",
      "        ..\n",
      "10650    4\n",
      "10651    4\n",
      "10652    4\n",
      "10653    4\n",
      "10654    4\n",
      "Name: CLASS, Length: 10655, dtype: int64\n"
     ]
    }
   ],
   "source": [
    "print(y)"
   ]
  },
  {
   "cell_type": "code",
   "execution_count": 16,
   "id": "3aa34978-1836-4d01-9397-e98fdb7514e6",
   "metadata": {},
   "outputs": [],
   "source": [
    "## Importing train_test_split method from sklearn\n",
    "from sklearn.model_selection import train_test_split\n",
    "\n",
    "### Train/Test Split\n",
    "X_train, X_test, y_train, y_test = train_test_split(X, y, test_size = 0.2, random_state=42)\n",
    "\n",
    "# creating train/validation split\n",
    "X_train, X_validation, y_train, y_validation = train_test_split(X_train, y_train, test_size=0.1, random_state=42)"
   ]
  },
  {
   "cell_type": "markdown",
   "id": "3c759e7b-51fc-4c1d-9f15-1e523d20dfca",
   "metadata": {},
   "source": [
    "Feature scaling, specifically using the StandardScaler from scikit-learn, a popular Python library for machine learning. Feature scaling is a preprocessing technique that is commonly used in machine learning to standardize or normalize the features (input variables) of a dataset. Here's a breakdown of what the code is doing:"
   ]
  },
  {
   "cell_type": "code",
   "execution_count": 17,
   "id": "54be038e-62de-4748-9842-b323c7711d85",
   "metadata": {},
   "outputs": [],
   "source": [
    "from sklearn.preprocessing import StandardScaler\n",
    "ss = StandardScaler()\n",
    "X_train = ss.fit_transform(X_train)\n",
    "X_test = ss.transform(X_test)"
   ]
  },
  {
   "cell_type": "markdown",
   "id": "3016d172-c08a-4470-abaa-9bca25430422",
   "metadata": {},
   "source": [
    "### 5. Building a model"
   ]
  },
  {
   "cell_type": "markdown",
   "id": "05d1bbf0-1a15-4241-9ad8-b21c5f0a89d5",
   "metadata": {},
   "source": [
    "##### 5.1. SVM Model"
   ]
  },
  {
   "cell_type": "code",
   "execution_count": 18,
   "id": "71483776-11c1-4706-94dc-a41d1a62d81e",
   "metadata": {},
   "outputs": [
    {
     "name": "stdout",
     "output_type": "stream",
     "text": [
      "Fitting 5 folds for each of 10 candidates, totalling 50 fits\n",
      "[CV 1/5] END ....C=100, gamma=0.001, kernel=rbf;, score=1.000 total time=   0.0s\n",
      "[CV 2/5] END ....C=100, gamma=0.001, kernel=rbf;, score=0.999 total time=   0.0s\n",
      "[CV 3/5] END ....C=100, gamma=0.001, kernel=rbf;, score=0.998 total time=   0.0s\n",
      "[CV 4/5] END ....C=100, gamma=0.001, kernel=rbf;, score=0.999 total time=   0.0s\n",
      "[CV 5/5] END ....C=100, gamma=0.001, kernel=rbf;, score=0.999 total time=   0.0s\n",
      "[CV 1/5] END ......C=100, gamma=0.1, kernel=rbf;, score=1.000 total time=   0.0s\n",
      "[CV 2/5] END ......C=100, gamma=0.1, kernel=rbf;, score=1.000 total time=   0.0s\n",
      "[CV 3/5] END ......C=100, gamma=0.1, kernel=rbf;, score=0.999 total time=   0.0s\n",
      "[CV 4/5] END ......C=100, gamma=0.1, kernel=rbf;, score=0.999 total time=   0.0s\n",
      "[CV 5/5] END ......C=100, gamma=0.1, kernel=rbf;, score=1.000 total time=   0.0s\n",
      "[CV 1/5] END ...C=1000, gamma=0.001, kernel=rbf;, score=1.000 total time=   0.0s\n",
      "[CV 2/5] END ...C=1000, gamma=0.001, kernel=rbf;, score=0.999 total time=   0.0s\n",
      "[CV 3/5] END ...C=1000, gamma=0.001, kernel=rbf;, score=0.998 total time=   0.0s\n",
      "[CV 4/5] END ...C=1000, gamma=0.001, kernel=rbf;, score=0.999 total time=   0.0s\n",
      "[CV 5/5] END ...C=1000, gamma=0.001, kernel=rbf;, score=1.000 total time=   0.0s\n",
      "[CV 1/5] END .....C=1000, gamma=0.1, kernel=rbf;, score=1.000 total time=   0.0s\n",
      "[CV 2/5] END .....C=1000, gamma=0.1, kernel=rbf;, score=1.000 total time=   0.0s\n",
      "[CV 3/5] END .....C=1000, gamma=0.1, kernel=rbf;, score=0.999 total time=   0.0s\n",
      "[CV 4/5] END .....C=1000, gamma=0.1, kernel=rbf;, score=0.999 total time=   0.0s\n",
      "[CV 5/5] END .....C=1000, gamma=0.1, kernel=rbf;, score=1.000 total time=   0.0s\n",
      "[CV 1/5] END ..C=1, gamma=0.0001, kernel=linear;, score=1.000 total time=   0.0s\n",
      "[CV 2/5] END ..C=1, gamma=0.0001, kernel=linear;, score=0.999 total time=   0.0s\n",
      "[CV 3/5] END ..C=1, gamma=0.0001, kernel=linear;, score=0.997 total time=   0.0s\n",
      "[CV 4/5] END ..C=1, gamma=0.0001, kernel=linear;, score=0.999 total time=   0.0s\n",
      "[CV 5/5] END ..C=1, gamma=0.0001, kernel=linear;, score=1.000 total time=   0.0s\n",
      "[CV 1/5] END .....C=0.1, gamma=0.01, kernel=rbf;, score=0.996 total time=   0.5s\n",
      "[CV 2/5] END .....C=0.1, gamma=0.01, kernel=rbf;, score=0.997 total time=   0.6s\n",
      "[CV 3/5] END .....C=0.1, gamma=0.01, kernel=rbf;, score=0.995 total time=   0.7s\n",
      "[CV 4/5] END .....C=0.1, gamma=0.01, kernel=rbf;, score=0.995 total time=   0.5s\n",
      "[CV 5/5] END .....C=0.1, gamma=0.01, kernel=rbf;, score=0.996 total time=   0.5s\n",
      "[CV 1/5] END ...C=1, gamma=0.001, kernel=linear;, score=1.000 total time=   0.0s\n",
      "[CV 2/5] END ...C=1, gamma=0.001, kernel=linear;, score=0.999 total time=   0.0s\n",
      "[CV 3/5] END ...C=1, gamma=0.001, kernel=linear;, score=0.997 total time=   0.0s\n",
      "[CV 4/5] END ...C=1, gamma=0.001, kernel=linear;, score=0.999 total time=   0.0s\n",
      "[CV 5/5] END ...C=1, gamma=0.001, kernel=linear;, score=1.000 total time=   0.0s\n",
      "[CV 1/5] END ..C=100, gamma=0.01, kernel=linear;, score=1.000 total time=   0.0s\n",
      "[CV 2/5] END ..C=100, gamma=0.01, kernel=linear;, score=0.999 total time=   0.0s\n",
      "[CV 3/5] END ..C=100, gamma=0.01, kernel=linear;, score=0.998 total time=   0.0s\n",
      "[CV 4/5] END ..C=100, gamma=0.01, kernel=linear;, score=0.999 total time=   0.0s\n",
      "[CV 5/5] END ..C=100, gamma=0.01, kernel=linear;, score=1.000 total time=   0.0s\n",
      "[CV 1/5] END ........C=100, gamma=1, kernel=rbf;, score=1.000 total time=   0.5s\n",
      "[CV 2/5] END ........C=100, gamma=1, kernel=rbf;, score=1.000 total time=   0.5s\n",
      "[CV 3/5] END ........C=100, gamma=1, kernel=rbf;, score=1.000 total time=   0.5s\n",
      "[CV 4/5] END ........C=100, gamma=1, kernel=rbf;, score=0.999 total time=   0.5s\n",
      "[CV 5/5] END ........C=100, gamma=1, kernel=rbf;, score=1.000 total time=   0.5s\n",
      "[CV 1/5] END ...C=100, gamma=0.0001, kernel=rbf;, score=0.999 total time=   0.1s\n",
      "[CV 2/5] END ...C=100, gamma=0.0001, kernel=rbf;, score=0.999 total time=   0.1s\n",
      "[CV 3/5] END ...C=100, gamma=0.0001, kernel=rbf;, score=0.997 total time=   0.1s\n",
      "[CV 4/5] END ...C=100, gamma=0.0001, kernel=rbf;, score=0.999 total time=   0.1s\n",
      "[CV 5/5] END ...C=100, gamma=0.0001, kernel=rbf;, score=0.998 total time=   0.1s\n",
      "RandomizedSearchCV(estimator=SVC(),\n",
      "                   param_distributions={'C': [0.1, 1, 10, 100, 1000],\n",
      "                                        'gamma': [1, 0.1, 0.01, 0.001, 0.0001],\n",
      "                                        'kernel': ['rbf', 'linear']},\n",
      "                   verbose=3)\n"
     ]
    }
   ],
   "source": [
    "### Hyperparameter tuning\n",
    "from sklearn.model_selection import RandomizedSearchCV\n",
    "# Number of trees in random forest\n",
    "# defining parameter range\n",
    "param_grid = {'C': [0.1, 1, 10, 100, 1000], \n",
    "              'gamma': [1, 0.1, 0.01, 0.001, 0.0001],\n",
    "              'kernel': ['rbf','linear']} \n",
    "random = RandomizedSearchCV(SVC(), param_grid, refit = True, verbose = 3)\n",
    "  \n",
    "# fitting the model for grid search\n",
    "random.fit(X_train, y_train)\n",
    "print(random)"
   ]
  },
  {
   "cell_type": "code",
   "execution_count": 19,
   "id": "e1e1b059-7fe3-494e-b633-1125c94c1c36",
   "metadata": {},
   "outputs": [
    {
     "name": "stdout",
     "output_type": "stream",
     "text": [
      "{'kernel': 'rbf', 'gamma': 1, 'C': 100}\n",
      "SVC(C=100, gamma=1)\n"
     ]
    }
   ],
   "source": [
    "# print best parameter after tuning\n",
    "best_params = random.best_params_\n",
    "best_estimator = random.best_estimator_\n",
    "\n",
    "print(random.best_params_)\n",
    "  \n",
    "# print how our model looks after hyper-parameter tuning\n",
    "print(random.best_estimator_)"
   ]
  },
  {
   "cell_type": "code",
   "execution_count": 20,
   "id": "6dfc68e0-4a43-492c-82df-8cbc3b5d83e6",
   "metadata": {},
   "outputs": [
    {
     "data": {
      "text/plain": [
       "1.0"
      ]
     },
     "execution_count": 20,
     "metadata": {},
     "output_type": "execute_result"
    }
   ],
   "source": [
    "### Evaluate the best estimator on the test data:\n",
    "test_accuracy = best_estimator.score(X_test, y_test)\n",
    "test_accuracy"
   ]
  },
  {
   "cell_type": "code",
   "execution_count": 21,
   "id": "7c7d0352-2e70-4446-a0b2-e52034727916",
   "metadata": {},
   "outputs": [
    {
     "data": {
      "text/html": [
       "<style>#sk-container-id-1 {color: black;}#sk-container-id-1 pre{padding: 0;}#sk-container-id-1 div.sk-toggleable {background-color: white;}#sk-container-id-1 label.sk-toggleable__label {cursor: pointer;display: block;width: 100%;margin-bottom: 0;padding: 0.3em;box-sizing: border-box;text-align: center;}#sk-container-id-1 label.sk-toggleable__label-arrow:before {content: \"▸\";float: left;margin-right: 0.25em;color: #696969;}#sk-container-id-1 label.sk-toggleable__label-arrow:hover:before {color: black;}#sk-container-id-1 div.sk-estimator:hover label.sk-toggleable__label-arrow:before {color: black;}#sk-container-id-1 div.sk-toggleable__content {max-height: 0;max-width: 0;overflow: hidden;text-align: left;background-color: #f0f8ff;}#sk-container-id-1 div.sk-toggleable__content pre {margin: 0.2em;color: black;border-radius: 0.25em;background-color: #f0f8ff;}#sk-container-id-1 input.sk-toggleable__control:checked~div.sk-toggleable__content {max-height: 200px;max-width: 100%;overflow: auto;}#sk-container-id-1 input.sk-toggleable__control:checked~label.sk-toggleable__label-arrow:before {content: \"▾\";}#sk-container-id-1 div.sk-estimator input.sk-toggleable__control:checked~label.sk-toggleable__label {background-color: #d4ebff;}#sk-container-id-1 div.sk-label input.sk-toggleable__control:checked~label.sk-toggleable__label {background-color: #d4ebff;}#sk-container-id-1 input.sk-hidden--visually {border: 0;clip: rect(1px 1px 1px 1px);clip: rect(1px, 1px, 1px, 1px);height: 1px;margin: -1px;overflow: hidden;padding: 0;position: absolute;width: 1px;}#sk-container-id-1 div.sk-estimator {font-family: monospace;background-color: #f0f8ff;border: 1px dotted black;border-radius: 0.25em;box-sizing: border-box;margin-bottom: 0.5em;}#sk-container-id-1 div.sk-estimator:hover {background-color: #d4ebff;}#sk-container-id-1 div.sk-parallel-item::after {content: \"\";width: 100%;border-bottom: 1px solid gray;flex-grow: 1;}#sk-container-id-1 div.sk-label:hover label.sk-toggleable__label {background-color: #d4ebff;}#sk-container-id-1 div.sk-serial::before {content: \"\";position: absolute;border-left: 1px solid gray;box-sizing: border-box;top: 0;bottom: 0;left: 50%;z-index: 0;}#sk-container-id-1 div.sk-serial {display: flex;flex-direction: column;align-items: center;background-color: white;padding-right: 0.2em;padding-left: 0.2em;position: relative;}#sk-container-id-1 div.sk-item {position: relative;z-index: 1;}#sk-container-id-1 div.sk-parallel {display: flex;align-items: stretch;justify-content: center;background-color: white;position: relative;}#sk-container-id-1 div.sk-item::before, #sk-container-id-1 div.sk-parallel-item::before {content: \"\";position: absolute;border-left: 1px solid gray;box-sizing: border-box;top: 0;bottom: 0;left: 50%;z-index: -1;}#sk-container-id-1 div.sk-parallel-item {display: flex;flex-direction: column;z-index: 1;position: relative;background-color: white;}#sk-container-id-1 div.sk-parallel-item:first-child::after {align-self: flex-end;width: 50%;}#sk-container-id-1 div.sk-parallel-item:last-child::after {align-self: flex-start;width: 50%;}#sk-container-id-1 div.sk-parallel-item:only-child::after {width: 0;}#sk-container-id-1 div.sk-dashed-wrapped {border: 1px dashed gray;margin: 0 0.4em 0.5em 0.4em;box-sizing: border-box;padding-bottom: 0.4em;background-color: white;}#sk-container-id-1 div.sk-label label {font-family: monospace;font-weight: bold;display: inline-block;line-height: 1.2em;}#sk-container-id-1 div.sk-label-container {text-align: center;}#sk-container-id-1 div.sk-container {/* jupyter's `normalize.less` sets `[hidden] { display: none; }` but bootstrap.min.css set `[hidden] { display: none !important; }` so we also need the `!important` here to be able to override the default hidden behavior on the sphinx rendered scikit-learn.org. See: https://github.com/scikit-learn/scikit-learn/issues/21755 */display: inline-block !important;position: relative;}#sk-container-id-1 div.sk-text-repr-fallback {display: none;}</style><div id=\"sk-container-id-1\" class=\"sk-top-container\"><div class=\"sk-text-repr-fallback\"><pre>SVC(C=10, gamma=0.0001)</pre><b>In a Jupyter environment, please rerun this cell to show the HTML representation or trust the notebook. <br />On GitHub, the HTML representation is unable to render, please try loading this page with nbviewer.org.</b></div><div class=\"sk-container\" hidden><div class=\"sk-item\"><div class=\"sk-estimator sk-toggleable\"><input class=\"sk-toggleable__control sk-hidden--visually\" id=\"sk-estimator-id-1\" type=\"checkbox\" checked><label for=\"sk-estimator-id-1\" class=\"sk-toggleable__label sk-toggleable__label-arrow\">SVC</label><div class=\"sk-toggleable__content\"><pre>SVC(C=10, gamma=0.0001)</pre></div></div></div></div></div>"
      ],
      "text/plain": [
       "SVC(C=10, gamma=0.0001)"
      ]
     },
     "execution_count": 21,
     "metadata": {},
     "output_type": "execute_result"
    }
   ],
   "source": [
    "### Training the model\n",
    "model=[]\n",
    "acc=[]\n",
    "svclassifier = SVC(C=10, gamma=0.0001, kernel='rbf')\n",
    "svclassifier.fit(X_train, y_train)\n",
    "\n",
    "### kfold = KFold(n_splits=10, random_state=0, shuffle=True)\n",
    "### result = cross_val_score(svclassifier, X, y, cv=kfold, scoring='accuracy')"
   ]
  },
  {
   "cell_type": "code",
   "execution_count": 22,
   "id": "46c48af9-de14-40ac-b4d9-b0f2db4ab322",
   "metadata": {},
   "outputs": [
    {
     "data": {
      "text/plain": [
       "['SVM_trained_model.pkl']"
      ]
     },
     "execution_count": 22,
     "metadata": {},
     "output_type": "execute_result"
    }
   ],
   "source": [
    "### Saving the Model\n",
    "import joblib\n",
    "\n",
    "# Save the trained model to a file\n",
    "joblib.dump(svclassifier, 'SVM_trained_model.pkl')"
   ]
  },
  {
   "cell_type": "code",
   "execution_count": 23,
   "id": "dfe477b9-0887-46a4-9e14-04a8da4d1c48",
   "metadata": {},
   "outputs": [
    {
     "name": "stdout",
     "output_type": "stream",
     "text": [
      "99.3899577663069\n",
      "              precision    recall  f1-score   support\n",
      "\n",
      "     Type II       0.98      1.00      0.99       515\n",
      "   PreDiabet       1.00      0.98      0.99       555\n",
      " Gestational       1.00      1.00      1.00       513\n",
      "      Normal       1.00      1.00      1.00       548\n",
      "\n",
      "    accuracy                           0.99      2131\n",
      "   macro avg       0.99      0.99      0.99      2131\n",
      "weighted avg       0.99      0.99      0.99      2131\n",
      "\n"
     ]
    }
   ],
   "source": [
    "### Evaluating the model\n",
    "y_pred = svclassifier.predict(X_test)\n",
    "\n",
    "print(accuracy_score(y_test, y_pred)*100)\n",
    "target_names = ['Type II', 'PreDiabet', 'Gestational', 'Normal']\n",
    "print(classification_report(y_pred, y_test, target_names=target_names))\n",
    "model.append(\"svm\")"
   ]
  },
  {
   "cell_type": "code",
   "execution_count": 24,
   "id": "36f516ba-0603-4ddb-b166-93f8e7fef916",
   "metadata": {},
   "outputs": [
    {
     "name": "stdout",
     "output_type": "stream",
     "text": [
      "Confusion Matrix:\n",
      "[[515   0   0   0]\n",
      " [ 11 543   0   1]\n",
      " [  0   0 513   0]\n",
      " [  1   0   0 547]]\n"
     ]
    },
    {
     "data": {
      "image/png": "[encoded data removed]",
      "text/plain": [
       "<Figure size 400x400 with 1 Axes>"
      ]
     },
     "metadata": {},
     "output_type": "display_data"
    }
   ],
   "source": [
    "### Displaying the confusion matrix\n",
    "from sklearn.metrics import confusion_matrix\n",
    "import matplotlib.pyplot as plt\n",
    "import seaborn as sns\n",
    "\n",
    "# Calculate the confusion matrix\n",
    "cm = confusion_matrix(y_pred, y_test)\n",
    "\n",
    "# Define class labels\n",
    "target_names = ['Type II', 'PreDiabet', 'Gestational', 'Normal']\n",
    "plt.figure(figsize=(4, 4))\n",
    "\n",
    "sns.heatmap(cm, square=True, annot=True, xticklabels=target_names, yticklabels=target_names, fmt='d', cmap=plt.cm.Blues, cbar=False)\n",
    "plt.xlabel(\"Predicted Label\")\n",
    "plt.ylabel(\"True Label\")\n",
    "print(\"Confusion Matrix:\")\n",
    "print(cm)"
   ]
  },
  {
   "cell_type": "code",
   "execution_count": 25,
   "id": "e0788134-3504-436c-91ea-bcf4ac94aabc",
   "metadata": {},
   "outputs": [
    {
     "data": {
      "text/plain": [
       "<matplotlib.legend.Legend at 0x25ff4c84fd0>"
      ]
     },
     "execution_count": 25,
     "metadata": {},
     "output_type": "execute_result"
    },
    {
     "data": {
      "image/png": "[encoded data removed]",
      "text/plain": [
       "<Figure size 640x480 with 1 Axes>"
      ]
     },
     "metadata": {},
     "output_type": "display_data"
    }
   ],
   "source": [
    "### creating a distribution plot to visualize and compare the distribution of predicted values\n",
    "import seaborn as sb\n",
    "import matplotlib.pyplot as plt\n",
    "from matplotlib import style\n",
    "sb.distplot(y_pred, hist = False, color = 'r', label = 'Predicted Values')\n",
    "sb.distplot(y_test, hist = False, color = 'b', label = 'Actual Values')\n",
    "plt.title('Actual vs Predicted Values', fontsize = 16)\n",
    "plt.xlabel('Values', fontsize = 12)\n",
    "plt.ylabel('Frequency', fontsize = 12)\n",
    "plt.legend(loc = 'upper left', fontsize = 13)"
   ]
  },
  {
   "cell_type": "code",
   "execution_count": 26,
   "id": "7d82ee64-12bf-4340-be4f-c20b36b47a75",
   "metadata": {},
   "outputs": [
    {
     "name": "stdout",
     "output_type": "stream",
     "text": [
      "[learning_curve] Training set sizes: [  61  185  309  433  557  681  805  929 1053 1177 1301 1425 1549 1672\n",
      " 1796 1920 2044 2168 2292 2416 2540 2664 2788 2912 3036 3160 3284 3408\n",
      " 3532 3656 3780 3904 4028 4152 4276 4400 4524 4648 4772 4896 5020 5144\n",
      " 5268 5392 5516 5640 5764 5888 6012 6136]\n"
     ]
    },
    {
     "name": "stderr",
     "output_type": "stream",
     "text": [
      "[Parallel(n_jobs=-1)]: Using backend LokyBackend with 4 concurrent workers.\n",
      "[Parallel(n_jobs=-1)]: Done 250 out of 250 | elapsed:   18.1s finished\n"
     ]
    }
   ],
   "source": [
    "### generate learning curves for a Support Vector Classifier (SVC) model\n",
    "train_sizes, train_scores, test_scores=learning_curve(SVC(),X_train,  y_train, scoring ='accuracy', n_jobs=-1, train_sizes = np.linspace(0.01,1, 50), verbose =1 )"
   ]
  },
  {
   "cell_type": "code",
   "execution_count": 27,
   "id": "8cebdf3a-f477-467f-a5a5-b5041c59adf1",
   "metadata": {},
   "outputs": [
    {
     "data": {
      "text/plain": [
       "array([1.        , 0.99567568, 1.        , 0.99953811, 0.99964093,\n",
       "       0.99970631, 0.99975155, 0.99956943, 0.99981007, 0.99983008,\n",
       "       0.99984627, 0.99985965, 0.99987088, 1.        , 1.        ,\n",
       "       1.        , 1.        , 0.99972325, 0.99973822, 0.99966887,\n",
       "       0.99976378, 0.99977477, 0.99964132, 0.99965659, 0.99967062,\n",
       "       0.99968354, 0.99975639, 0.99976526, 1.        , 1.        ,\n",
       "       0.99984127, 0.99974385, 0.99965243, 0.99966281, 0.99957905,\n",
       "       0.99959091, 0.99955791, 0.9996988 , 0.99970662, 0.9996732 ,\n",
       "       0.99976096, 0.99976672, 0.99977221, 0.99974036, 0.99974619,\n",
       "       0.99975177, 0.99972241, 0.99976223, 0.99976713, 0.99973924])"
      ]
     },
     "execution_count": 27,
     "metadata": {},
     "output_type": "execute_result"
    }
   ],
   "source": [
    "### calculates the mean of the training scores obtained from a learning curve analysis\n",
    "train_mean = np.mean(train_scores, axis =1)\n",
    "train_mean"
   ]
  },
  {
   "cell_type": "code",
   "execution_count": 28,
   "id": "61340d8f-aff1-4805-8a11-82a6c10207f5",
   "metadata": {},
   "outputs": [
    {
     "data": {
      "text/plain": [
       "array([0.94631676, 0.99804458, 0.99882694, 0.9992179 , 0.99947849,\n",
       "       0.99934819, 0.99921782, 0.99947849, 0.99947849, 0.99947849,\n",
       "       0.99934811, 0.99934811, 0.99934811, 0.99934811, 0.99934811,\n",
       "       0.99960887, 0.99960887, 0.99960887, 0.99960887, 0.99960887,\n",
       "       0.99960887, 0.99960887, 0.99960887, 0.99960887, 0.99960887,\n",
       "       0.99960887, 0.99960887, 0.99960887, 0.99960887, 0.99960887,\n",
       "       0.99960887, 0.99960887, 0.99960887, 0.99960887, 0.99960887,\n",
       "       0.99960887, 0.99960887, 0.99960887, 0.99960887, 0.99960887,\n",
       "       0.99960887, 0.99960887, 0.99960887, 0.99960887, 0.99960887,\n",
       "       0.99960887, 0.99960887, 0.99960887, 0.99960887, 0.99960887])"
      ]
     },
     "execution_count": 28,
     "metadata": {},
     "output_type": "execute_result"
    }
   ],
   "source": [
    "### calculates the mean of the testing scores obtained from a learning curve analysis\n",
    "test_mean = np.mean(test_scores, axis =1)\n",
    "test_mean"
   ]
  },
  {
   "cell_type": "code",
   "execution_count": 29,
   "id": "b9b0f133-17aa-4bb7-a46a-4a9588e7b6d5",
   "metadata": {},
   "outputs": [
    {
     "data": {
      "text/plain": [
       "<matplotlib.legend.Legend at 0x25f86a673d0>"
      ]
     },
     "execution_count": 29,
     "metadata": {},
     "output_type": "execute_result"
    },
    {
     "data": {
      "image/png": "[encoded data removed]",
      "text/plain": [
       "<Figure size 640x480 with 1 Axes>"
      ]
     },
     "metadata": {},
     "output_type": "display_data"
    }
   ],
   "source": [
    "### Plotting the training score and testing score\n",
    "plt.plot(train_sizes, train_mean, label = 'Training Score')\n",
    "plt.plot(train_sizes, test_mean,label = 'Test score')\n",
    "#plt.fill_between(train_sizes, train_mean-train_std, train_mean+train_std, color= '#DDDDDD')\n",
    "#plt.fill_between(train_sizes, test_mean-test_std, test_mean+test_std, color= '#DDDDDD')\n",
    "\n",
    "plt.xlabel('Training Size')\n",
    "plt.ylabel('Accuracy Score')\n",
    "plt.title('Learning Curve')\n",
    "plt.legend(loc = 'best')"
   ]
  },
  {
   "cell_type": "code",
   "execution_count": 32,
   "id": "560ba014-2227-435b-8b40-f513cfe61ae7",
   "metadata": {},
   "outputs": [
    {
     "name": "stdout",
     "output_type": "stream",
     "text": [
      "Prediction 1: [1]\n"
     ]
    }
   ],
   "source": [
    "### Evaluating the Model using unseen data\n",
    "\n",
    "# Load the trained model from the file\n",
    "loaded_model = joblib.load('SVM_trained_model.pkl')\n",
    "\n",
    "# Define new data points for prediction\n",
    "new_data = [[64, 0, 25.7, 7.22, 250, 229, 238, 147]]\n",
    "\n",
    "# Make predictions using the loaded model\n",
    "prediction1 = loaded_model.predict(new_data)\n",
    "\n",
    "# Print the predictions\n",
    "print(\"Prediction 1:\", prediction1)\n"
   ]
  },
  {
   "cell_type": "markdown",
   "id": "2ccd7e41-3ce2-44f1-9cde-2dbac53d3726",
   "metadata": {},
   "source": [
    "##### 2. Naïve Bayes Model"
   ]
  },
  {
   "cell_type": "code",
   "execution_count": 33,
   "id": "e3db5a2d-779e-4c96-b7d7-f054e0c17434",
   "metadata": {},
   "outputs": [
    {
     "data": {
      "text/html": [
       "<style>#sk-container-id-2 {color: black;}#sk-container-id-2 pre{padding: 0;}#sk-container-id-2 div.sk-toggleable {background-color: white;}#sk-container-id-2 label.sk-toggleable__label {cursor: pointer;display: block;width: 100%;margin-bottom: 0;padding: 0.3em;box-sizing: border-box;text-align: center;}#sk-container-id-2 label.sk-toggleable__label-arrow:before {content: \"▸\";float: left;margin-right: 0.25em;color: #696969;}#sk-container-id-2 label.sk-toggleable__label-arrow:hover:before {color: black;}#sk-container-id-2 div.sk-estimator:hover label.sk-toggleable__label-arrow:before {color: black;}#sk-container-id-2 div.sk-toggleable__content {max-height: 0;max-width: 0;overflow: hidden;text-align: left;background-color: #f0f8ff;}#sk-container-id-2 div.sk-toggleable__content pre {margin: 0.2em;color: black;border-radius: 0.25em;background-color: #f0f8ff;}#sk-container-id-2 input.sk-toggleable__control:checked~div.sk-toggleable__content {max-height: 200px;max-width: 100%;overflow: auto;}#sk-container-id-2 input.sk-toggleable__control:checked~label.sk-toggleable__label-arrow:before {content: \"▾\";}#sk-container-id-2 div.sk-estimator input.sk-toggleable__control:checked~label.sk-toggleable__label {background-color: #d4ebff;}#sk-container-id-2 div.sk-label input.sk-toggleable__control:checked~label.sk-toggleable__label {background-color: #d4ebff;}#sk-container-id-2 input.sk-hidden--visually {border: 0;clip: rect(1px 1px 1px 1px);clip: rect(1px, 1px, 1px, 1px);height: 1px;margin: -1px;overflow: hidden;padding: 0;position: absolute;width: 1px;}#sk-container-id-2 div.sk-estimator {font-family: monospace;background-color: #f0f8ff;border: 1px dotted black;border-radius: 0.25em;box-sizing: border-box;margin-bottom: 0.5em;}#sk-container-id-2 div.sk-estimator:hover {background-color: #d4ebff;}#sk-container-id-2 div.sk-parallel-item::after {content: \"\";width: 100%;border-bottom: 1px solid gray;flex-grow: 1;}#sk-container-id-2 div.sk-label:hover label.sk-toggleable__label {background-color: #d4ebff;}#sk-container-id-2 div.sk-serial::before {content: \"\";position: absolute;border-left: 1px solid gray;box-sizing: border-box;top: 0;bottom: 0;left: 50%;z-index: 0;}#sk-container-id-2 div.sk-serial {display: flex;flex-direction: column;align-items: center;background-color: white;padding-right: 0.2em;padding-left: 0.2em;position: relative;}#sk-container-id-2 div.sk-item {position: relative;z-index: 1;}#sk-container-id-2 div.sk-parallel {display: flex;align-items: stretch;justify-content: center;background-color: white;position: relative;}#sk-container-id-2 div.sk-item::before, #sk-container-id-2 div.sk-parallel-item::before {content: \"\";position: absolute;border-left: 1px solid gray;box-sizing: border-box;top: 0;bottom: 0;left: 50%;z-index: -1;}#sk-container-id-2 div.sk-parallel-item {display: flex;flex-direction: column;z-index: 1;position: relative;background-color: white;}#sk-container-id-2 div.sk-parallel-item:first-child::after {align-self: flex-end;width: 50%;}#sk-container-id-2 div.sk-parallel-item:last-child::after {align-self: flex-start;width: 50%;}#sk-container-id-2 div.sk-parallel-item:only-child::after {width: 0;}#sk-container-id-2 div.sk-dashed-wrapped {border: 1px dashed gray;margin: 0 0.4em 0.5em 0.4em;box-sizing: border-box;padding-bottom: 0.4em;background-color: white;}#sk-container-id-2 div.sk-label label {font-family: monospace;font-weight: bold;display: inline-block;line-height: 1.2em;}#sk-container-id-2 div.sk-label-container {text-align: center;}#sk-container-id-2 div.sk-container {/* jupyter's `normalize.less` sets `[hidden] { display: none; }` but bootstrap.min.css set `[hidden] { display: none !important; }` so we also need the `!important` here to be able to override the default hidden behavior on the sphinx rendered scikit-learn.org. See: https://github.com/scikit-learn/scikit-learn/issues/21755 */display: inline-block !important;position: relative;}#sk-container-id-2 div.sk-text-repr-fallback {display: none;}</style><div id=\"sk-container-id-2\" class=\"sk-top-container\"><div class=\"sk-text-repr-fallback\"><pre>GaussianNB()</pre><b>In a Jupyter environment, please rerun this cell to show the HTML representation or trust the notebook. <br />On GitHub, the HTML representation is unable to render, please try loading this page with nbviewer.org.</b></div><div class=\"sk-container\" hidden><div class=\"sk-item\"><div class=\"sk-estimator sk-toggleable\"><input class=\"sk-toggleable__control sk-hidden--visually\" id=\"sk-estimator-id-2\" type=\"checkbox\" checked><label for=\"sk-estimator-id-2\" class=\"sk-toggleable__label sk-toggleable__label-arrow\">GaussianNB</label><div class=\"sk-toggleable__content\"><pre>GaussianNB()</pre></div></div></div></div></div>"
      ],
      "text/plain": [
       "GaussianNB()"
      ]
     },
     "execution_count": 33,
     "metadata": {},
     "output_type": "execute_result"
    }
   ],
   "source": [
    "# train a Gaussian Naive Bayes classifier on the training set\n",
    "from sklearn.naive_bayes import GaussianNB\n",
    "\n",
    "\n",
    "# instantiate the model\n",
    "gnb = GaussianNB()\n",
    "\n",
    "\n",
    "# fit the model\n",
    "gnb.fit(X_train, y_train)"
   ]
  },
  {
   "cell_type": "code",
   "execution_count": 34,
   "id": "f8b145b1-5d17-4e5e-bdb8-b9e7138a5e9d",
   "metadata": {},
   "outputs": [
    {
     "name": "stdout",
     "output_type": "stream",
     "text": [
      "99.8122946973252\n",
      "              precision    recall  f1-score   support\n",
      "\n",
      "     Type II       0.99      1.00      1.00       523\n",
      "   PreDiabet       1.00      0.99      1.00       546\n",
      " Gestational       1.00      1.00      1.00       513\n",
      "      Normal       1.00      1.00      1.00       549\n",
      "\n",
      "    accuracy                           1.00      2131\n",
      "   macro avg       1.00      1.00      1.00      2131\n",
      "weighted avg       1.00      1.00      1.00      2131\n",
      "\n"
     ]
    }
   ],
   "source": [
    "from sklearn.naive_bayes import GaussianNB\n",
    "gnb = GaussianNB()\n",
    "gnb.fit(X_train,y_train)\n",
    "\n",
    "Pred = gnb.predict(X_test)\n",
    "\n",
    "print(accuracy_score(y_test, Pred)*100)\n",
    "result = (accuracy_score(y_test, Pred)*100)\n",
    "target_names = ['Type II', 'PreDiabet', 'Gestational', 'Normal']\n",
    "print(classification_report(Pred, y_test, target_names=target_names))\n",
    "model.append(\"GaussianNB\")\n",
    "acc.append(result)"
   ]
  },
  {
   "cell_type": "code",
   "execution_count": 35,
   "id": "45060cd4-55b4-4c07-b341-62ebbd792623",
   "metadata": {},
   "outputs": [
    {
     "data": {
      "text/plain": [
       "['Naive_Bayes_trained_model.pkl']"
      ]
     },
     "execution_count": 35,
     "metadata": {},
     "output_type": "execute_result"
    }
   ],
   "source": [
    "### Saving the model\n",
    "# Save the trained model to a file\n",
    "joblib.dump(gnb, 'Naive_Bayes_trained_model.pkl')"
   ]
  },
  {
   "cell_type": "code",
   "execution_count": 37,
   "id": "926dff0e-8258-4009-a882-633a33b1d1bf",
   "metadata": {},
   "outputs": [
    {
     "name": "stdout",
     "output_type": "stream",
     "text": [
      "Confusion Matrix:\n",
      "[[523   0   0   0]\n",
      " [  3 543   0   0]\n",
      " [  0   0 513   0]\n",
      " [  1   0   0 548]]\n"
     ]
    },
    {
     "data": {
      "image/png": "[encoded data removed]",
      "text/plain": [
       "<Figure size 400x400 with 1 Axes>"
      ]
     },
     "metadata": {},
     "output_type": "display_data"
    }
   ],
   "source": [
    "### testing \n",
    "y_pred = gnb.predict(X_test)\n",
    "\n",
    "# Calculate the confusion matrix\n",
    "\n",
    "cm = confusion_matrix(y_pred, y_test)\n",
    "\n",
    "# Define class labels\n",
    "target_names = ['Type II', 'PreDiabet', 'Gestational', 'Normal']\n",
    "plt.figure(figsize=(4, 4))\n",
    "\n",
    "sns.heatmap(cm, square=True, annot=True, xticklabels=target_names, yticklabels=target_names, fmt='d', cmap=plt.cm.Blues, cbar=False)\n",
    "plt.xlabel(\"Predicted Label\")\n",
    "plt.ylabel(\"True Label\")\n",
    "print(\"Confusion Matrix:\")\n",
    "print(cm)"
   ]
  },
  {
   "cell_type": "code",
   "execution_count": 39,
   "id": "43258df4-57fb-4752-b70e-7a8127d201ab",
   "metadata": {},
   "outputs": [
    {
     "name": "stdout",
     "output_type": "stream",
     "text": [
      "Prediction 1: [3]\n"
     ]
    }
   ],
   "source": [
    "### Evaluating the Model using unseen data\n",
    "\n",
    "# Load the trained model from the file\n",
    "loaded_model1 = joblib.load('Naive_Bayes_trained_model.pkl')\n",
    "\n",
    "# Define new data points for prediction\n",
    "new_data1 = [[40, 1, 21.8, 4.3, 127, 91, 121, 111]]\n",
    "\n",
    "# Make predictions using the loaded model\n",
    "prediction2 = loaded_model1.predict(new_data1)\n",
    "\n",
    "# Print the predictions\n",
    "print(\"Prediction 1:\", prediction2)"
   ]
  },
  {
   "cell_type": "code",
   "execution_count": null,
   "id": "c6f3814a-9be9-4acc-9b84-9a1e011f5d57",
   "metadata": {},
   "outputs": [],
   "source": []
  },
  {
   "cell_type": "code",
   "execution_count": null,
   "id": "6c082eed-6d97-4154-9a31-3b884145b9e7",
   "metadata": {},
   "outputs": [],
   "source": []
  },
  {
   "cell_type": "code",
   "execution_count": null,
   "id": "df3053b8-f157-4e26-a88e-9b286e83f3ec",
   "metadata": {},
   "outputs": [],
   "source": []
  }
 ],
 "metadata": {
  "kernelspec": {
   "display_name": "Python 3 (ipykernel)",
   "language": "python",
   "name": "python3"
  },
  "language_info": {
   "codemirror_mode": {
    "name": "ipython",
    "version": 3
   },
   "file_extension": ".py",
   "mimetype": "text/x-python",
   "name": "python",
   "nbconvert_exporter": "python",
   "pygments_lexer": "ipython3",
   "version": "3.11.5"
  }
 },
 "nbformat": 4,
 "nbformat_minor": 5
}
